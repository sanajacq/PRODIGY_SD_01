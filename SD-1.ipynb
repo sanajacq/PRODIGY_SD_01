{
 "cells": [
  {
   "cell_type": "code",
   "execution_count": 5,
   "id": "d269e1fe-819b-4afd-9bfc-7fc5de734731",
   "metadata": {},
   "outputs": [
    {
     "name": "stdout",
     "output_type": "stream",
     "text": [
      "TEMPERATURE CONVERTER\n",
      "1. Celsius to Fahrenheit and Kelvin\n",
      "2. Fahrenheit to Celsius and Kelvin\n",
      "3. Kelvin to Celsius and Fahrenheit\n"
     ]
    },
    {
     "name": "stdin",
     "output_type": "stream",
     "text": [
      "Enter your choice (1 or 2 or 3):  3\n",
      "Enter the temperature in Kelvin:  231\n"
     ]
    },
    {
     "name": "stdout",
     "output_type": "stream",
     "text": [
      "231.0K is equal to -42.14999999999998°C and -43.86999999999996°F\n"
     ]
    }
   ],
   "source": [
    "def celsius_to_fahrenheit(celsius):\n",
    "    return (celsius * 9/5) + 32\n",
    "\n",
    "def celsius_to_kelvin(celsius):\n",
    "    return celsius + 273.15\n",
    "\n",
    "def fahrenheit_to_celsius(fahrenheit):\n",
    "    return (fahrenheit - 32) * 5/9\n",
    "\n",
    "def fahrenheit_to_kelvin(fahrenheit):\n",
    "    return (fahrenheit - 32) * 5/9 + 273.15\n",
    "\n",
    "def kelvin_to_celsius(kelvin):\n",
    "    return kelvin - 273.15\n",
    "\n",
    "def kelvin_to_fahrenheit(kelvin):\n",
    "    return (kelvin - 273.15) * 9/5 + 32\n",
    "\n",
    "def main():\n",
    "    print(\"TEMPERATURE CONVERTER\")\n",
    "    print(\"1. Celsius to Fahrenheit and Kelvin\")\n",
    "    print(\"2. Fahrenheit to Celsius and Kelvin\")\n",
    "    print(\"3. Kelvin to Celsius and Fahrenheit\")\n",
    "\n",
    "    choice = input(\"Enter your choice (1 or 2 or 3): \")\n",
    "\n",
    "    if choice == '1':\n",
    "        celsius = float(input(\"Enter the temperature in Celsius: \"))\n",
    "        fahrenheit = celsius_to_fahrenheit(celsius)\n",
    "        kelvin = celsius_to_kelvin(celsius)\n",
    "        print(f\"{celsius}°C is equal to {fahrenheit}°F and {kelvin}K\")\n",
    "    elif choice == '2':\n",
    "        fahrenheit = float(input(\"Enter the temperature in Fahrenheit: \"))\n",
    "        celsius = fahrenheit_to_celsius(fahrenheit)\n",
    "        kelvin = fahrenheit_to_kelvin(fahrenheit)\n",
    "        print(f\"{fahrenheit}°F is equal to {celsius}°C and {kelvin}K\")\n",
    "    elif choice == '3':\n",
    "        kelvin = float(input(\"Enter the temperature in Kelvin: \"))\n",
    "        celsius = kelvin_to_celsius(kelvin)\n",
    "        fahrenheit = kelvin_to_fahrenheit(kelvin)\n",
    "        print(f\"{kelvin}K is equal to {celsius}°C and {fahrenheit}°F\")\n",
    "    else:\n",
    "        print(\"Invalid choice\")\n",
    "\n",
    "if __name__ == \"__main__\":\n",
    "    main()\n"
   ]
  },
  {
   "cell_type": "code",
   "execution_count": null,
   "id": "e8a5b3eb-671c-423c-95b0-d6bbbf7fab88",
   "metadata": {},
   "outputs": [],
   "source": []
  }
 ],
 "metadata": {
  "kernelspec": {
   "display_name": "Python 3 (ipykernel)",
   "language": "python",
   "name": "python3"
  },
  "language_info": {
   "codemirror_mode": {
    "name": "ipython",
    "version": 3
   },
   "file_extension": ".py",
   "mimetype": "text/x-python",
   "name": "python",
   "nbconvert_exporter": "python",
   "pygments_lexer": "ipython3",
   "version": "3.11.7"
  }
 },
 "nbformat": 4,
 "nbformat_minor": 5
}
